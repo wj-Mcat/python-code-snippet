{
 "nbformat": 4,
 "nbformat_minor": 2,
 "metadata": {
  "language_info": {
   "name": "python",
   "codemirror_mode": {
    "name": "ipython",
    "version": 3
   },
   "version": "3.7.5-final"
  },
  "orig_nbformat": 2,
  "file_extension": ".py",
  "mimetype": "text/x-python",
  "name": "python",
  "npconvert_exporter": "python",
  "pygments_lexer": "ipython3",
  "version": 3,
  "kernelspec": {
   "name": "python37564bitdeeplearningconda1af3512334ba41cf826a239de0208318",
   "display_name": "Python 3.7.5 64-bit ('deeplearning': conda)"
  }
 },
 "cells": [
  {
   "cell_type": "markdown",
   "metadata": {},
   "source": [
    "## tree_dict"
   ]
  },
  {
   "cell_type": "code",
   "execution_count": 9,
   "metadata": {},
   "outputs": [
    {
     "name": "stdout",
     "output_type": "stream",
     "text": "not found ...\n{\"2323\": {\"3434\": {}}, \"11\": {\"222\": {\"333\": {\"444\": \"55\"}}}}\n"
    }
   ],
   "source": [
    "from collections import defaultdict\n",
    "import json\n",
    "\n",
    "tree = lambda: defaultdict(tree)\n",
    "\n",
    "tree_dict = tree()\n",
    "\n",
    "if \"33\" in tree_dict[\"11\"][\"22\"]:\n",
    "    print(\"has been found\")\n",
    "else:\n",
    "    print(\"not found ...\")\n",
    "\n",
    "tree_dict[\"111\"][\"222\"][\"333\"][\"444\"] = \"55\"\n",
    "\n",
    "print(json.dumps(tree_dict))"
   ]
  },
  {
   "cell_type": "code",
   "execution_count": 12,
   "metadata": {},
   "outputs": [
    {
     "name": "stdout",
     "output_type": "stream",
     "text": "4418317040\n4364654256\n"
    }
   ],
   "source": [
    "a = '12'\n",
    "print(id(a))\n",
    "b = '11'\n",
    "print(id(b))"
   ]
  }
 ]
}